{
 "cells": [
  {
   "cell_type": "markdown",
   "id": "5a10d2e5",
   "metadata": {},
   "source": [
    "#05 Simple Linear Regression"
   ]
  },
  {
   "cell_type": "markdown",
   "id": "70fd363e",
   "metadata": {},
   "source": [
    "Simple linear regression modelling the connection between a response variable with an explanatory variable as a straight line(linear)\n",
    "Refrences:https://en.wikipedia.org/wiki/Simple_linear_regression"
   ]
  },
  {
   "cell_type": "markdown",
   "id": "7bb148c6",
   "metadata": {},
   "source": [
    "Sample Dataset"
   ]
  },
  {
   "cell_type": "code",
   "execution_count": 21,
   "id": "cb168d12",
   "metadata": {},
   "outputs": [
    {
     "data": {
      "text/html": [
       "<div>\n",
       "<style scoped>\n",
       "    .dataframe tbody tr th:only-of-type {\n",
       "        vertical-align: middle;\n",
       "    }\n",
       "\n",
       "    .dataframe tbody tr th {\n",
       "        vertical-align: top;\n",
       "    }\n",
       "\n",
       "    .dataframe thead th {\n",
       "        text-align: right;\n",
       "    }\n",
       "</style>\n",
       "<table border=\"1\" class=\"dataframe\">\n",
       "  <thead>\n",
       "    <tr style=\"text-align: right;\">\n",
       "      <th></th>\n",
       "      <th>diameter</th>\n",
       "      <th>price</th>\n",
       "    </tr>\n",
       "  </thead>\n",
       "  <tbody>\n",
       "    <tr>\n",
       "      <th>0</th>\n",
       "      <td>6</td>\n",
       "      <td>7.0</td>\n",
       "    </tr>\n",
       "    <tr>\n",
       "      <th>1</th>\n",
       "      <td>8</td>\n",
       "      <td>9.0</td>\n",
       "    </tr>\n",
       "    <tr>\n",
       "      <th>2</th>\n",
       "      <td>10</td>\n",
       "      <td>13.0</td>\n",
       "    </tr>\n",
       "    <tr>\n",
       "      <th>3</th>\n",
       "      <td>14</td>\n",
       "      <td>17.5</td>\n",
       "    </tr>\n",
       "    <tr>\n",
       "      <th>4</th>\n",
       "      <td>18</td>\n",
       "      <td>18.0</td>\n",
       "    </tr>\n",
       "  </tbody>\n",
       "</table>\n",
       "</div>"
      ],
      "text/plain": [
       "   diameter  price\n",
       "0         6    7.0\n",
       "1         8    9.0\n",
       "2        10   13.0\n",
       "3        14   17.5\n",
       "4        18   18.0"
      ]
     },
     "execution_count": 21,
     "metadata": {},
     "output_type": "execute_result"
    }
   ],
   "source": [
    "import pandas as pd\n",
    "\n",
    "pizza = {'diameter': [6,8,10,14,18],\n",
    "         'price': [7,9,13,17.5,18]}\n",
    "\n",
    "pizza_df = pd.DataFrame(pizza)\n",
    "pizza_df"
   ]
  },
  {
   "cell_type": "markdown",
   "id": "a2d11a8a",
   "metadata": {},
   "source": [
    "Visualization Data"
   ]
  },
  {
   "cell_type": "code",
   "execution_count": 22,
   "id": "bebf8fd4",
   "metadata": {},
   "outputs": [
    {
     "data": {
      "image/png": "[encoded data removed]",
      "text/plain": [
       "<Figure size 432x288 with 1 Axes>"
      ]
     },
     "metadata": {
      "needs_background": "light"
     },
     "output_type": "display_data"
    }
   ],
   "source": [
    "import matplotlib.pyplot as plt\n",
    "\n",
    "pizza_df.plot(kind='scatter', x='diameter', y='price')\n",
    "\n",
    "plt.title('Comparison between Diameter and Pizza Prices')\n",
    "plt.xlabel('Diameter (inch)')\n",
    "plt.ylabel('Price (dollar)')\n",
    "plt.xlim(0,25)\n",
    "plt.ylim(0, 25)\n",
    "plt.grid(True)\n",
    "plt.show()"
   ]
  },
  {
   "cell_type": "markdown",
   "id": "c6591767",
   "metadata": {},
   "source": [
    "Simple Linear Regression Model"
   ]
  },
  {
   "cell_type": "markdown",
   "id": "5432f58a",
   "metadata": {},
   "source": [
    "Adjustment Dataset"
   ]
  },
  {
   "cell_type": "code",
   "execution_count": 23,
   "id": "03b16620",
   "metadata": {},
   "outputs": [
    {
     "name": "stdout",
     "output_type": "stream",
     "text": [
      "X: [ 6  8 10 14 18]\n",
      "y: [ 7.   9.  13.  17.5 18. ]\n"
     ]
    }
   ],
   "source": [
    "import numpy as np\n",
    "\n",
    "X = np.array(pizza_df['diameter'])\n",
    "y = np.array(pizza_df['price'])\n",
    "\n",
    "print(f'X: {X}')\n",
    "print(f'y: {y}')"
   ]
  },
  {
   "cell_type": "code",
   "execution_count": 24,
   "id": "44ca5f88",
   "metadata": {},
   "outputs": [
    {
     "data": {
      "text/plain": [
       "(5, 1)"
      ]
     },
     "execution_count": 24,
     "metadata": {},
     "output_type": "execute_result"
    }
   ],
   "source": [
    "X = X.reshape(-1, 1)\n",
    "X.shape"
   ]
  },
  {
   "cell_type": "code",
   "execution_count": 25,
   "id": "c7ac8c8f",
   "metadata": {},
   "outputs": [
    {
     "data": {
      "text/plain": [
       "array([[ 6],\n",
       "       [ 8],\n",
       "       [10],\n",
       "       [14],\n",
       "       [18]], dtype=int64)"
      ]
     },
     "execution_count": 25,
     "metadata": {},
     "output_type": "execute_result"
    }
   ],
   "source": [
    "X"
   ]
  },
  {
   "cell_type": "markdown",
   "id": "17f891e4",
   "metadata": {},
   "source": [
    "Training Simple Linear Regression Model"
   ]
  },
  {
   "cell_type": "code",
   "execution_count": 26,
   "id": "d8c8394e",
   "metadata": {},
   "outputs": [
    {
     "data": {
      "text/plain": [
       "LinearRegression()"
      ]
     },
     "execution_count": 26,
     "metadata": {},
     "output_type": "execute_result"
    }
   ],
   "source": [
    "from sklearn.linear_model import LinearRegression\n",
    "\n",
    "model = LinearRegression()\n",
    "model.fit(X, y)"
   ]
  },
  {
   "cell_type": "markdown",
   "id": "6ed8cc68",
   "metadata": {},
   "source": [
    "Visualization Simple Linear Regression Model"
   ]
  },
  {
   "cell_type": "code",
   "execution_count": 27,
   "id": "2d670754",
   "metadata": {},
   "outputs": [],
   "source": [
    "X_vis = np.array([0, 25]).reshape(-1, 1)\n",
    "y_vis = model.predict(X_vis)"
   ]
  },
  {
   "cell_type": "code",
   "execution_count": 28,
   "id": "be14e248",
   "metadata": {},
   "outputs": [
    {
     "data": {
      "image/png": "[encoded data removed]",
      "text/plain": [
       "<Figure size 432x288 with 1 Axes>"
      ]
     },
     "metadata": {
      "needs_background": "light"
     },
     "output_type": "display_data"
    }
   ],
   "source": [
    "plt.scatter(X, y)\n",
    "plt.plot(X_vis, y_vis, '-r')\n",
    "\n",
    "plt.title('Comparison between Diameter and Pizza Prices')\n",
    "plt.xlabel('Diameter (inch)')\n",
    "plt.ylabel('Price (dollar)')\n",
    "plt.xlim(0,25)\n",
    "plt.ylim(0, 25)\n",
    "plt.grid(True)\n",
    "plt.show()\n"
   ]
  },
  {
   "cell_type": "markdown",
   "id": "9379e028",
   "metadata": {},
   "source": [
    "Formula Linear regression:  Y = a + bX\n",
    "y:Response variable\n",
    "x:explanatory variable\n",
    "a: intercept\n",
    "b:slope"
   ]
  },
  {
   "cell_type": "code",
   "execution_count": 29,
   "id": "366ab773",
   "metadata": {},
   "outputs": [
    {
     "name": "stdout",
     "output_type": "stream",
     "text": [
      "intercept: 1.965517241379315\n",
      "slope: [0.9762931]\n"
     ]
    }
   ],
   "source": [
    "print(f'intercept: {model.intercept_}')\n",
    "print(f'slope: {model.coef_}')"
   ]
  },
  {
   "cell_type": "markdown",
   "id": "1f151da3",
   "metadata": {},
   "source": [
    "Finding slope score"
   ]
  },
  {
   "cell_type": "markdown",
   "id": "143329d1",
   "metadata": {},
   "source": [
    "Slope score on linear regression can be obtain with using this formula:\n",
    "B: cov(x,y)\n",
    "   var(x)"
   ]
  },
  {
   "cell_type": "code",
   "execution_count": 30,
   "id": "6c33f90a",
   "metadata": {},
   "outputs": [
    {
     "name": "stdout",
     "output_type": "stream",
     "text": [
      "X:\n",
      "[[ 6]\n",
      " [ 8]\n",
      " [10]\n",
      " [14]\n",
      " [18]]\n",
      "\n",
      "X flatten: [ 6  8 10 14 18]\n",
      "\n",
      "y: [ 7.   9.  13.  17.5 18. ]\n"
     ]
    }
   ],
   "source": [
    "print (f'X:\\n{X}\\n')\n",
    "print (f'X flatten: {X.flatten()}\\n')\n",
    "print (f'y: {y}')"
   ]
  },
  {
   "cell_type": "markdown",
   "id": "8a968d8a",
   "metadata": {},
   "source": [
    "Variance"
   ]
  },
  {
   "cell_type": "code",
   "execution_count": 31,
   "id": "be118d64",
   "metadata": {},
   "outputs": [
    {
     "name": "stdout",
     "output_type": "stream",
     "text": [
      "variance: 23.2\n"
     ]
    }
   ],
   "source": [
    "variance_x = np.var(X.flatten(), ddof=1 )\n",
    "\n",
    "print(f'variance: {variance_x}')"
   ]
  },
  {
   "cell_type": "markdown",
   "id": "c8d429ed",
   "metadata": {},
   "source": [
    "Covariance"
   ]
  },
  {
   "cell_type": "code",
   "execution_count": 36,
   "id": "758f6a29",
   "metadata": {},
   "outputs": [
    {
     "data": {
      "text/plain": [
       "array([[23.2 , 22.65],\n",
       "       [22.65, 24.3 ]])"
      ]
     },
     "execution_count": 36,
     "metadata": {},
     "output_type": "execute_result"
    }
   ],
   "source": [
    "np.cov(X.flatten(), y)"
   ]
  },
  {
   "cell_type": "code",
   "execution_count": 37,
   "id": "a116c0b1",
   "metadata": {},
   "outputs": [
    {
     "name": "stdout",
     "output_type": "stream",
     "text": [
      "covariance: 22.65\n"
     ]
    }
   ],
   "source": [
    "covariance_xy = np.cov(X.flatten(), y)[0][1]\n",
    "\n",
    "print(f'covariance: {covariance_xy}')"
   ]
  },
  {
   "cell_type": "markdown",
   "id": "95051012",
   "metadata": {},
   "source": [
    "slope"
   ]
  },
  {
   "cell_type": "code",
   "execution_count": 38,
   "id": "fcec1c67",
   "metadata": {},
   "outputs": [
    {
     "name": "stdout",
     "output_type": "stream",
     "text": [
      "slope: 0.9762931034482758\n"
     ]
    }
   ],
   "source": [
    "slope = covariance_xy / variance_x\n",
    "\n",
    "print(f'slope: {slope}')"
   ]
  },
  {
   "cell_type": "markdown",
   "id": "8e8d7fe0",
   "metadata": {},
   "source": [
    "Finding intercept number"
   ]
  },
  {
   "cell_type": "markdown",
   "id": "cec832de",
   "metadata": {},
   "source": [
    "Intercept number on linear regression can be obtain with using this formula:\n",
    "A: y - bx"
   ]
  },
  {
   "cell_type": "code",
   "execution_count": 39,
   "id": "853f6a02",
   "metadata": {},
   "outputs": [
    {
     "name": "stdout",
     "output_type": "stream",
     "text": [
      "intercept: 1.9655172413793114\n"
     ]
    }
   ],
   "source": [
    "intercept = np.mean(y) - slope * np.mean(X)\n",
    "\n",
    "print(f'intercept: {intercept}')"
   ]
  },
  {
   "cell_type": "markdown",
   "id": "362bfe80",
   "metadata": {},
   "source": [
    "Pizza price prediction"
   ]
  },
  {
   "cell_type": "code",
   "execution_count": 40,
   "id": "0094a727",
   "metadata": {},
   "outputs": [
    {
     "data": {
      "text/plain": [
       "array([[12],\n",
       "       [20],\n",
       "       [23]])"
      ]
     },
     "execution_count": 40,
     "metadata": {},
     "output_type": "execute_result"
    }
   ],
   "source": [
    "diameter_pizza = np.array([12, 20, 23]).reshape(-1,1)\n",
    "diameter_pizza"
   ]
  },
  {
   "cell_type": "code",
   "execution_count": 45,
   "id": "0eb606da",
   "metadata": {},
   "outputs": [
    {
     "data": {
      "text/plain": [
       "array([13.68103448, 21.49137931, 24.42025862])"
      ]
     },
     "execution_count": 45,
     "metadata": {},
     "output_type": "execute_result"
    }
   ],
   "source": [
    "prediction_price =model.predict(diameter_pizza)\n",
    "prediction_price"
   ]
  },
  {
   "cell_type": "code",
   "execution_count": 46,
   "id": "6ba22eb8",
   "metadata": {},
   "outputs": [
    {
     "name": "stdout",
     "output_type": "stream",
     "text": [
      "Diameter: [12] price prediction: 13.681034482758621\n",
      "Diameter: [20] price prediction: 21.491379310344826\n",
      "Diameter: [23] price prediction: 24.42025862068965\n"
     ]
    }
   ],
   "source": [
    "for dmtr, hrg in zip(diameter_pizza, prediction_price):\n",
    "    print(f'Diameter: {dmtr} price prediction: {hrg}')"
   ]
  },
  {
   "cell_type": "markdown",
   "id": "0fb8687f",
   "metadata": {},
   "source": [
    "Simple linear Regression Model Evaluation"
   ]
  },
  {
   "cell_type": "markdown",
   "id": "a995d58c",
   "metadata": {},
   "source": [
    "Training & testing dataset"
   ]
  },
  {
   "cell_type": "code",
   "execution_count": 47,
   "id": "866d7094",
   "metadata": {},
   "outputs": [],
   "source": [
    "X_train = np.array([6,8,10,14,18]).reshape(-1,1)\n",
    "y_train = np.array([7,9,13,17.5,18])\n",
    "\n",
    "X_test = np.array([8,9,11,16,12]).reshape(-1,1)\n",
    "y_test = np.array([11,8.5,15,18,11])"
   ]
  },
  {
   "cell_type": "markdown",
   "id": "3835e00b",
   "metadata": {},
   "source": [
    "Training Simple linear regression model"
   ]
  },
  {
   "cell_type": "code",
   "execution_count": 50,
   "id": "68c746a6",
   "metadata": {},
   "outputs": [
    {
     "data": {
      "text/plain": [
       "LinearRegression()"
      ]
     },
     "execution_count": 50,
     "metadata": {},
     "output_type": "execute_result"
    }
   ],
   "source": [
    "model = LinearRegression()\n",
    "model.fit(X_train, y_train)"
   ]
  },
  {
   "cell_type": "markdown",
   "id": "32e4fa82",
   "metadata": {},
   "source": [
    "Linear Regression Model Evaluation with Coefficient of Determination or R-squared (R2)\n",
    "\n",
    "Refrence:https://en.wikipedia.org/wiki/Coefficient_of_determination"
   ]
  },
  {
   "cell_type": "code",
   "execution_count": 51,
   "id": "ef03ff6b",
   "metadata": {},
   "outputs": [
    {
     "name": "stdout",
     "output_type": "stream",
     "text": [
      "R-squared: 0.6620052929422553\n"
     ]
    }
   ],
   "source": [
    "from sklearn.metrics import r2_score\n",
    "y_pred = model.predict(X_test)\n",
    "r_squared = r2_score(y_test, y_pred)\n",
    "print(f'R-squared: {r_squared}')"
   ]
  },
  {
   "cell_type": "markdown",
   "id": "92420031",
   "metadata": {},
   "source": [
    "Finding Number For R-squared(R2)"
   ]
  },
  {
   "cell_type": "code",
   "execution_count": 52,
   "id": "d2a00a23",
   "metadata": {},
   "outputs": [
    {
     "name": "stdout",
     "output_type": "stream",
     "text": [
      "ss_res: 19.1980993608799\n"
     ]
    }
   ],
   "source": [
    "ss_res = sum([(y_i - model.predict(x_i.reshape(-1,1))[0])**2\n",
    "           for x_i,y_i in zip(X_test, y_test)])\n",
    "print(f'ss_res: {ss_res}')"
   ]
  },
  {
   "cell_type": "markdown",
   "id": "61d5c7e0",
   "metadata": {},
   "source": [
    "SS tot"
   ]
  },
  {
   "cell_type": "code",
   "execution_count": 53,
   "id": "a446edf8",
   "metadata": {},
   "outputs": [
    {
     "name": "stdout",
     "output_type": "stream",
     "text": [
      "ss_tot: 56.8\n"
     ]
    }
   ],
   "source": [
    "mean_y = np.mean(y_test)\n",
    "ss_tot = sum ([(y_i- mean_y)**2 for y_i in y_test])\n",
    "\n",
    "print(f'ss_tot: {ss_tot}')"
   ]
  },
  {
   "cell_type": "markdown",
   "id": "ffc181a0",
   "metadata": {},
   "source": [
    "R2"
   ]
  },
  {
   "cell_type": "code",
   "execution_count": 54,
   "id": "dc4cf1b4",
   "metadata": {},
   "outputs": [
    {
     "name": "stdout",
     "output_type": "stream",
     "text": [
      "R_squared: 0.6620052929422553\n"
     ]
    }
   ],
   "source": [
    "r_squred = 1 - (ss_res / ss_tot)\n",
    "\n",
    "print(f'R_squared: {r_squared}')"
   ]
  },
  {
   "cell_type": "code",
   "execution_count": null,
   "id": "263a52a8",
   "metadata": {},
   "outputs": [],
   "source": []
  }
 ],
 "metadata": {
  "kernelspec": {
   "display_name": "Python 3 (ipykernel)",
   "language": "python",
   "name": "python3"
  },
  "language_info": {
   "codemirror_mode": {
    "name": "ipython",
    "version": 3
   },
   "file_extension": ".py",
   "mimetype": "text/x-python",
   "name": "python",
   "nbconvert_exporter": "python",
   "pygments_lexer": "ipython3",
   "version": "3.9.7"
  }
 },
 "nbformat": 4,
 "nbformat_minor": 5
}
