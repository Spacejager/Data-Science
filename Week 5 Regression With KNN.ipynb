{
 "cells": [
  {
   "cell_type": "markdown",
   "id": "a311db3e",
   "metadata": {},
   "source": [
    "#Week 05"
   ]
  },
  {
   "cell_type": "markdown",
   "id": "12db0d2b",
   "metadata": {},
   "source": [
    "07 Regression With KNN(K Nearest Neighbours)\n",
    "\n",
    "KKN is a Machine Learning Model that can be use to predict based on nearest Characteristic with some nearest neighbours\n",
    "\n",
    "Prediction that can be implement on classification or regression tasks.\n",
    "\n",
    "Refrence:https://en.wikipedia.org/wiki/K-nearest_neighbors_algorithm\n",
    "\n"
   ]
  },
  {
   "cell_type": "markdown",
   "id": "fefda255",
   "metadata": {},
   "source": [
    "Sample Dataset"
   ]
  },
  {
   "cell_type": "code",
   "execution_count": 1,
   "id": "65323c95",
   "metadata": {},
   "outputs": [
    {
     "data": {
      "text/html": [
       "<div>\n",
       "<style scoped>\n",
       "    .dataframe tbody tr th:only-of-type {\n",
       "        vertical-align: middle;\n",
       "    }\n",
       "\n",
       "    .dataframe tbody tr th {\n",
       "        vertical-align: top;\n",
       "    }\n",
       "\n",
       "    .dataframe thead th {\n",
       "        text-align: right;\n",
       "    }\n",
       "</style>\n",
       "<table border=\"1\" class=\"dataframe\">\n",
       "  <thead>\n",
       "    <tr style=\"text-align: right;\">\n",
       "      <th></th>\n",
       "      <th>height</th>\n",
       "      <th>weight</th>\n",
       "      <th>gender</th>\n",
       "    </tr>\n",
       "  </thead>\n",
       "  <tbody>\n",
       "    <tr>\n",
       "      <th>0</th>\n",
       "      <td>158</td>\n",
       "      <td>64</td>\n",
       "      <td>male</td>\n",
       "    </tr>\n",
       "    <tr>\n",
       "      <th>1</th>\n",
       "      <td>170</td>\n",
       "      <td>86</td>\n",
       "      <td>male</td>\n",
       "    </tr>\n",
       "    <tr>\n",
       "      <th>2</th>\n",
       "      <td>183</td>\n",
       "      <td>84</td>\n",
       "      <td>male</td>\n",
       "    </tr>\n",
       "    <tr>\n",
       "      <th>3</th>\n",
       "      <td>191</td>\n",
       "      <td>80</td>\n",
       "      <td>male</td>\n",
       "    </tr>\n",
       "    <tr>\n",
       "      <th>4</th>\n",
       "      <td>155</td>\n",
       "      <td>49</td>\n",
       "      <td>female</td>\n",
       "    </tr>\n",
       "    <tr>\n",
       "      <th>5</th>\n",
       "      <td>163</td>\n",
       "      <td>59</td>\n",
       "      <td>female</td>\n",
       "    </tr>\n",
       "    <tr>\n",
       "      <th>6</th>\n",
       "      <td>180</td>\n",
       "      <td>67</td>\n",
       "      <td>female</td>\n",
       "    </tr>\n",
       "    <tr>\n",
       "      <th>7</th>\n",
       "      <td>158</td>\n",
       "      <td>54</td>\n",
       "      <td>female</td>\n",
       "    </tr>\n",
       "    <tr>\n",
       "      <th>8</th>\n",
       "      <td>178</td>\n",
       "      <td>67</td>\n",
       "      <td>female</td>\n",
       "    </tr>\n",
       "  </tbody>\n",
       "</table>\n",
       "</div>"
      ],
      "text/plain": [
       "   height  weight  gender\n",
       "0     158      64    male\n",
       "1     170      86    male\n",
       "2     183      84    male\n",
       "3     191      80    male\n",
       "4     155      49  female\n",
       "5     163      59  female\n",
       "6     180      67  female\n",
       "7     158      54  female\n",
       "8     178      67  female"
      ]
     },
     "execution_count": 1,
     "metadata": {},
     "output_type": "execute_result"
    }
   ],
   "source": [
    "import pandas as pd\n",
    "\n",
    "sensus = {\n",
    "     'height': [158, 170, 183, 191, 155, 163, 180, 158, 178],\n",
    "     'weight': [64, 86, 84, 80, 49, 59, 67, 54, 67],\n",
    "     'gender': [\n",
    "          'male', 'male', 'male', 'male', 'female', 'female', 'female', 'female', 'female'\n",
    "     ]\n",
    "}\n",
    "\n",
    "sensus_df = pd.DataFrame(sensus)\n",
    "sensus_df"
   ]
  },
  {
   "cell_type": "markdown",
   "id": "f4851d4e",
   "metadata": {},
   "source": [
    "Regression With KNN"
   ]
  },
  {
   "cell_type": "markdown",
   "id": "13b2c977",
   "metadata": {},
   "source": [
    "Features & Target"
   ]
  },
  {
   "cell_type": "code",
   "execution_count": 2,
   "id": "165c3d59",
   "metadata": {},
   "outputs": [
    {
     "name": "stdout",
     "output_type": "stream",
     "text": [
      "X_train:\n",
      "[[158 'male']\n",
      " [170 'male']\n",
      " [183 'male']\n",
      " [191 'male']\n",
      " [155 'female']\n",
      " [163 'female']\n",
      " [180 'female']\n",
      " [158 'female']\n",
      " [178 'female']]\n",
      "\n",
      "y_train: [64 86 84 80 49 59 67 54 67]\n"
     ]
    }
   ],
   "source": [
    "import numpy as np\n",
    "\n",
    "X_train = np.array(sensus_df[['height', 'gender']])\n",
    "y_train = np.array(sensus_df ['weight'])\n",
    "\n",
    "print(f'X_train:\\n{X_train}\\n')\n",
    "print(f'y_train: {y_train}')"
   ]
  },
  {
   "cell_type": "markdown",
   "id": "58f6053f",
   "metadata": {},
   "source": [
    "Preprocess Dataset:Label Conversion to Biner Numeric"
   ]
  },
  {
   "cell_type": "code",
   "execution_count": 4,
   "id": "54b9edac",
   "metadata": {},
   "outputs": [
    {
     "name": "stdout",
     "output_type": "stream",
     "text": [
      "X_train:\n",
      "[[158 'male']\n",
      " [170 'male']\n",
      " [183 'male']\n",
      " [191 'male']\n",
      " [155 'female']\n",
      " [163 'female']\n",
      " [180 'female']\n",
      " [158 'female']\n",
      " [178 'female']]\n",
      "\n",
      "X_train_transposed:\n",
      "[[158 170 183 191 155 163 180 158 178]\n",
      " ['male' 'male' 'male' 'male' 'female' 'female' 'female' 'female'\n",
      "  'female']]\n"
     ]
    }
   ],
   "source": [
    "X_train_transposed = np.transpose(X_train)\n",
    "\n",
    "print(f'X_train:\\n{X_train}\\n')\n",
    "print(f'X_train_transposed:\\n{X_train_transposed}')"
   ]
  },
  {
   "cell_type": "code",
   "execution_count": 5,
   "id": "c1f3a203",
   "metadata": {},
   "outputs": [
    {
     "name": "stdout",
     "output_type": "stream",
     "text": [
      "gender: ['male' 'male' 'male' 'male' 'female' 'female' 'female' 'female' 'female']\n",
      "\n",
      "gender_binarised:\n",
      "[[1]\n",
      " [1]\n",
      " [1]\n",
      " [1]\n",
      " [0]\n",
      " [0]\n",
      " [0]\n",
      " [0]\n",
      " [0]]\n"
     ]
    }
   ],
   "source": [
    "from sklearn.preprocessing import LabelBinarizer\n",
    "\n",
    "lb = LabelBinarizer()\n",
    "gender_binarised = lb.fit_transform(X_train_transposed[1])\n",
    "\n",
    "print(f'gender: {X_train_transposed[1]}\\n')\n",
    "print(f'gender_binarised:\\n{gender_binarised}')"
   ]
  },
  {
   "cell_type": "code",
   "execution_count": 6,
   "id": "7c32d3e2",
   "metadata": {},
   "outputs": [
    {
     "data": {
      "text/plain": [
       "array([1, 1, 1, 1, 0, 0, 0, 0, 0])"
      ]
     },
     "execution_count": 6,
     "metadata": {},
     "output_type": "execute_result"
    }
   ],
   "source": [
    "gender_binarised = gender_binarised.flatten()\n",
    "gender_binarised"
   ]
  },
  {
   "cell_type": "code",
   "execution_count": 7,
   "id": "9dac7811",
   "metadata": {},
   "outputs": [
    {
     "name": "stdout",
     "output_type": "stream",
     "text": [
      "X_train_transposed:\n",
      "[[158 170 183 191 155 163 180 158 178]\n",
      " [1 1 1 1 0 0 0 0 0]]\n",
      "\n",
      "X_train:\n",
      "[[158 1]\n",
      " [170 1]\n",
      " [183 1]\n",
      " [191 1]\n",
      " [155 0]\n",
      " [163 0]\n",
      " [180 0]\n",
      " [158 0]\n",
      " [178 0]]\n"
     ]
    }
   ],
   "source": [
    "X_train_transposed[1] = gender_binarised\n",
    "X_train = X_train_transposed.transpose()\n",
    "\n",
    "print(f'X_train_transposed:\\n{X_train_transposed}\\n')\n",
    "print(f'X_train:\\n{X_train}')"
   ]
  },
  {
   "cell_type": "markdown",
   "id": "cb32d305",
   "metadata": {},
   "source": [
    "Training KNN Regression Model"
   ]
  },
  {
   "cell_type": "code",
   "execution_count": 8,
   "id": "5d13e035",
   "metadata": {},
   "outputs": [
    {
     "data": {
      "text/plain": [
       "KNeighborsClassifier(n_neighbors=3)"
      ]
     },
     "execution_count": 8,
     "metadata": {},
     "output_type": "execute_result"
    }
   ],
   "source": [
    "from sklearn.neighbors import KNeighborsClassifier\n",
    "\n",
    "K = 3\n",
    "model = KNeighborsClassifier(n_neighbors=K)\n",
    "model.fit(X_train, y_train)"
   ]
  },
  {
   "cell_type": "markdown",
   "id": "0d6e544b",
   "metadata": {},
   "source": [
    "Predict Body Weight"
   ]
  },
  {
   "cell_type": "code",
   "execution_count": 10,
   "id": "1a1b1845",
   "metadata": {},
   "outputs": [
    {
     "data": {
      "text/plain": [
       "array([[155,   1]])"
      ]
     },
     "execution_count": 10,
     "metadata": {},
     "output_type": "execute_result"
    }
   ],
   "source": [
    "X_new = np.array([[155,1]])\n",
    "X_new"
   ]
  },
  {
   "cell_type": "code",
   "execution_count": 11,
   "id": "9b1ca6b4",
   "metadata": {},
   "outputs": [
    {
     "data": {
      "text/plain": [
       "array([49], dtype=int64)"
      ]
     },
     "execution_count": 11,
     "metadata": {},
     "output_type": "execute_result"
    }
   ],
   "source": [
    "y_pred = model.predict(X_new)\n",
    "y_pred"
   ]
  },
  {
   "cell_type": "markdown",
   "id": "517fd8c3",
   "metadata": {},
   "source": [
    "KNN Regression Model Evaluation"
   ]
  },
  {
   "cell_type": "code",
   "execution_count": 12,
   "id": "348ba344",
   "metadata": {},
   "outputs": [
    {
     "name": "stdout",
     "output_type": "stream",
     "text": [
      "X_test:\n",
      "[[168   0]\n",
      " [180   0]\n",
      " [160   1]\n",
      " [169   1]]\n",
      "\n",
      "y_test:\n",
      "[65 96 52 67]\n"
     ]
    }
   ],
   "source": [
    "X_test = np.array([[168,0], [180,0], [160,1], [169,1]])\n",
    "y_test = np.array([65,96,52,67])\n",
    "\n",
    "\n",
    "print(f'X_test:\\n{X_test}\\n')\n",
    "print(f'y_test:\\n{y_test}')"
   ]
  },
  {
   "cell_type": "code",
   "execution_count": 13,
   "id": "8c87e6c8",
   "metadata": {},
   "outputs": [
    {
     "data": {
      "text/plain": [
       "array([54, 67, 54, 59], dtype=int64)"
      ]
     },
     "execution_count": 13,
     "metadata": {},
     "output_type": "execute_result"
    }
   ],
   "source": [
    "y_pred = model.predict(X_test)\n",
    "y_pred"
   ]
  },
  {
   "cell_type": "markdown",
   "id": "376b5d2a",
   "metadata": {},
   "source": [
    "Coefficient of Determination or R2\n",
    "\n",
    "Refrence:https://en.wikipedia.org/wiki/Coefficient_of_determination"
   ]
  },
  {
   "cell_type": "code",
   "execution_count": 14,
   "id": "71261878",
   "metadata": {},
   "outputs": [
    {
     "name": "stdout",
     "output_type": "stream",
     "text": [
      "R-squared: 0.003868471953578312\n"
     ]
    }
   ],
   "source": [
    "from sklearn.metrics import r2_score\n",
    "\n",
    "r_squared = r2_score(y_test, y_pred)\n",
    "\n",
    "print(f'R-squared: {r_squared}')"
   ]
  },
  {
   "cell_type": "markdown",
   "id": "0350466b",
   "metadata": {},
   "source": [
    "Mean Absolute Error(MAE) Or Mean Absolute Deviation(MAD)\n",
    "MAE is the average of the absolute values of the errors of the predictions.\n",
    "\n",
    "Refrence:https://en.wikipedia.org/wiki/Mean_absolute_error"
   ]
  },
  {
   "cell_type": "code",
   "execution_count": 15,
   "id": "5310f61e",
   "metadata": {},
   "outputs": [
    {
     "name": "stdout",
     "output_type": "stream",
     "text": [
      "MAE: 12.5\n"
     ]
    }
   ],
   "source": [
    "from sklearn.metrics import mean_absolute_error\n",
    "MAE = mean_absolute_error(y_test, y_pred)\n",
    "print(f'MAE: {MAE}')"
   ]
  },
  {
   "cell_type": "markdown",
   "id": "6d3ae429",
   "metadata": {},
   "source": [
    "Mean Squared Error(MSE) or Mean Squared Deviation(MSD)\n",
    "MSE is the average of the squares of the errors of the predictions.\n",
    "\n",
    "Refrence:https://en.wikipedia.org/wiki/Mean_squared_error"
   ]
  },
  {
   "cell_type": "code",
   "execution_count": 16,
   "id": "2a944b14",
   "metadata": {},
   "outputs": [
    {
     "name": "stdout",
     "output_type": "stream",
     "text": [
      "MSE: 257.5\n"
     ]
    }
   ],
   "source": [
    "from sklearn.metrics import mean_squared_error\n",
    "MSE = mean_squared_error(y_test, y_pred)\n",
    "print(f'MSE: {MSE}')"
   ]
  },
  {
   "cell_type": "markdown",
   "id": "33f6a1b9",
   "metadata": {},
   "source": [
    "Scalling Problems on Features"
   ]
  },
  {
   "cell_type": "code",
   "execution_count": 17,
   "id": "6551ee7d",
   "metadata": {},
   "outputs": [
    {
     "data": {
      "text/plain": [
       "[60.0, 40.01249804748511]"
      ]
     },
     "execution_count": 17,
     "metadata": {},
     "output_type": "execute_result"
    }
   ],
   "source": [
    "from scipy.spatial.distance import euclidean\n",
    "\n",
    "#height from milimeter\n",
    "X_train = np.array([[1700,0], [1600,1]])\n",
    "X_new = np.array([[1640,0]])\n",
    "\n",
    "[euclidean(X_new[0], d) for d in X_train]"
   ]
  },
  {
   "cell_type": "code",
   "execution_count": 18,
   "id": "c0821191",
   "metadata": {},
   "outputs": [
    {
     "data": {
      "text/plain": [
       "[0.06000000000000005, 1.0007996802557444]"
      ]
     },
     "execution_count": 18,
     "metadata": {},
     "output_type": "execute_result"
    }
   ],
   "source": [
    "#height from meter\n",
    "X_train = np.array([[1.7,0], [1.6,1]])\n",
    "X_new = np.array([[1.64,0]])\n",
    "\n",
    "[euclidean(X_new[0], d) for d in X_train]"
   ]
  },
  {
   "cell_type": "markdown",
   "id": "6d71ddbe",
   "metadata": {},
   "source": [
    "Implement Standard Scaler(Standard Score or Z-Score)\n",
    "Standardize features by removing the mean and scalling to unit variance.\n",
    "\n",
    "Refrence:https://en.wikipedia.org/wiki/Standard_score"
   ]
  },
  {
   "cell_type": "code",
   "execution_count": 20,
   "id": "6462f132",
   "metadata": {},
   "outputs": [],
   "source": [
    "from sklearn.preprocessing import StandardScaler\n",
    "\n",
    "ss= StandardScaler()"
   ]
  },
  {
   "cell_type": "code",
   "execution_count": 23,
   "id": "d181b535",
   "metadata": {},
   "outputs": [
    {
     "name": "stdout",
     "output_type": "stream",
     "text": [
      "X_train_scaled:\n",
      "[[ 1. -1.]\n",
      " [-1.  1.]]\n",
      "\n",
      "X_new_scaled: [[-0.2 -1. ]]\n",
      "\n",
      "distance: [1.2, 2.154065922853802]\n"
     ]
    }
   ],
   "source": [
    "#height from milimeter\n",
    "\n",
    "X_train = np.array([[1700,0], [1600,1]])\n",
    "X_train_scaled = ss.fit_transform(X_train)\n",
    "print(f'X_train_scaled:\\n{X_train_scaled}\\n')\n",
    "\n",
    "X_new = np.array([[1640,0]])\n",
    "X_new_scaled = ss.transform(X_new)\n",
    "print(f'X_new_scaled: {X_new_scaled}\\n')\n",
    "\n",
    "distance = [euclidean(X_new_scaled[0], d) for d in X_train_scaled]\n",
    "print(f'distance: {distance}')\n"
   ]
  },
  {
   "cell_type": "code",
   "execution_count": 24,
   "id": "36e47b01",
   "metadata": {},
   "outputs": [
    {
     "name": "stdout",
     "output_type": "stream",
     "text": [
      "X_train_scaled:\n",
      "[[ 1. -1.]\n",
      " [-1.  1.]]\n",
      "\n",
      "X_new_scaled: [[ 3.2767e+04 -1.0000e+00]]\n",
      "\n",
      "distance: [32766.00000000004, 32768.00006103519]\n"
     ]
    }
   ],
   "source": [
    "#height from meter\n",
    "X_train = np.array([[1.7,0], [1.6,1]])\n",
    "X_train_scaled = ss.fit_transform(X_train)\n",
    "print(f'X_train_scaled:\\n{X_train_scaled}\\n')\n",
    "\n",
    "X_new = np.array([[1640,0]])\n",
    "X_new_scaled = ss.transform(X_new)\n",
    "print(f'X_new_scaled: {X_new_scaled}\\n')\n",
    "\n",
    "distance = [euclidean(X_new_scaled[0], d) for d in X_train_scaled]\n",
    "print(f'distance: {distance}')\n",
    "\n",
    "\n",
    "\n"
   ]
  },
  {
   "cell_type": "markdown",
   "id": "e4570f57",
   "metadata": {},
   "source": [
    "Implement Scalling Features on KNN"
   ]
  },
  {
   "cell_type": "markdown",
   "id": "7c9ba00b",
   "metadata": {},
   "source": [
    "Dataset"
   ]
  },
  {
   "cell_type": "code",
   "execution_count": 25,
   "id": "30be5f76",
   "metadata": {},
   "outputs": [],
   "source": [
    "#Training Set\n",
    "X_train = np.array([[158,0], [170,0], [183,0], [191,0], [155,1], [163,1],\n",
    "                   [180,1], [158,1], [170,1]])\n",
    "y_train = np.array([64,86,84,80,49,59,67,54,67])\n",
    "\n",
    "#test set\n",
    "X_test = np.array([[168,0], [180,0], [160,1], [169,1]])\n",
    "y_test = np.array([65,96,52,67])\n"
   ]
  },
  {
   "cell_type": "markdown",
   "id": "b6c7be9e",
   "metadata": {},
   "source": [
    "Features Scalling(Standard Scaller)"
   ]
  },
  {
   "cell_type": "code",
   "execution_count": 26,
   "id": "3efd54b3",
   "metadata": {},
   "outputs": [
    {
     "name": "stdout",
     "output_type": "stream",
     "text": [
      "X_train_scaled:\n",
      "[[-0.9908706  -1.11803399]\n",
      " [ 0.01869567 -1.11803399]\n",
      " [ 1.11239246 -1.11803399]\n",
      " [ 1.78543664 -1.11803399]\n",
      " [-1.24326216  0.89442719]\n",
      " [-0.57021798  0.89442719]\n",
      " [ 0.86000089  0.89442719]\n",
      " [-0.9908706   0.89442719]\n",
      " [ 0.01869567  0.89442719]]\n",
      "\n",
      "X_test_scaled:\n",
      "[[-0.14956537 -1.11803399]\n",
      " [ 0.86000089 -1.11803399]\n",
      " [-0.82260955  0.89442719]\n",
      " [-0.06543485  0.89442719]]\n",
      "\n"
     ]
    }
   ],
   "source": [
    "X_train_scaled = ss.fit_transform(X_train)\n",
    "X_test_scaled = ss.transform(X_test)\n",
    "\n",
    "print(f'X_train_scaled:\\n{X_train_scaled}\\n')\n",
    "print(f'X_test_scaled:\\n{X_test_scaled}\\n')\n"
   ]
  },
  {
   "cell_type": "markdown",
   "id": "a97d3a58",
   "metadata": {},
   "source": [
    "Training & Model Evaluation"
   ]
  },
  {
   "cell_type": "code",
   "execution_count": 27,
   "id": "db96006c",
   "metadata": {},
   "outputs": [
    {
     "name": "stdout",
     "output_type": "stream",
     "text": [
      "MAE: 5.0\n",
      "MSE: 66.5\n"
     ]
    }
   ],
   "source": [
    "model.fit(X_train_scaled, y_train)\n",
    "y_pred = model.predict(X_test_scaled)\n",
    "\n",
    "MAE = mean_absolute_error(y_test, y_pred)\n",
    "MSE = mean_squared_error(y_test, y_pred)\n",
    "\n",
    "print(f'MAE: {MAE}')\n",
    "print(f'MSE: {MSE}')\n"
   ]
  },
  {
   "cell_type": "code",
   "execution_count": null,
   "id": "9c40f004",
   "metadata": {},
   "outputs": [],
   "source": []
  }
 ],
 "metadata": {
  "kernelspec": {
   "display_name": "Python 3 (ipykernel)",
   "language": "python",
   "name": "python3"
  },
  "language_info": {
   "codemirror_mode": {
    "name": "ipython",
    "version": 3
   },
   "file_extension": ".py",
   "mimetype": "text/x-python",
   "name": "python",
   "nbconvert_exporter": "python",
   "pygments_lexer": "ipython3",
   "version": "3.9.7"
  }
 },
 "nbformat": 4,
 "nbformat_minor": 5
}
